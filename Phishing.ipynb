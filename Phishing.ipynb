{
 "cells": [
  {
   "cell_type": "markdown",
   "id": "ce5e6a12",
   "metadata": {},
   "source": [
    "# Business / Problem Understanding\n",
    "\n",
    "\n",
    "Phishing URLs are submited to PhishTank. They are classified by the \"community\" as being actual phishes or not. Therefore, we have a classification task.\n",
    "\n",
    "What features could we use to predict valid from invalid phishes using ML?\n",
    "\n",
    "\n",
    "We can find some valid phishes on PhishTank: https://phishtank.org/phish_search.php?valid=y&active=All&Search=Search\n",
    "\n",
    "\n",
    "\n",
    "Here are some examples of valid phishes:\n",
    "- https://help-recovery-identity-support-international.web.id/confirmid.php\n",
    "- https://234565676868--3456556757.repl.co/\n",
    "\n",
    "\n",
    "Let's look at this one:\n",
    "\n",
    "- https://help-recovery-identity-support-international.web.id/confirmid.php\n",
    "\n",
    "We can break it into its URL pieces:\n",
    "\n",
    "-PATH: /confirmid.php\n",
    "  *\"Is it a .php?\"\n",
    "      -binary feature\n",
    "  *\"How long is the path?\"\n",
    "      -contiuous integer \n",
    "  *\"How many unique characters in the path?\"\n",
    "  \n",
    "\n",
    "-DOMAIN: help-recovery-identity-support-international.web.id\n",
    "  *text analytics, are there certain substrings that are giveaways of a phish?\n",
    "  *Is readable?\n",
    "  *Is there a top-level domain that is not the last entry in the list?\n",
    "  *Count of subdomains?\n",
    "-PROTOCOL: https://\n",
    "\n",
    "\n",
    "# Data Understanding"
   ]
  },
  {
   "cell_type": "code",
   "execution_count": null,
   "id": "f16927de",
   "metadata": {},
   "outputs": [],
   "source": []
  }
 ],
 "metadata": {
  "kernelspec": {
   "display_name": "Python 3 (ipykernel)",
   "language": "python",
   "name": "python3"
  },
  "language_info": {
   "codemirror_mode": {
    "name": "ipython",
    "version": 3
   },
   "file_extension": ".py",
   "mimetype": "text/x-python",
   "name": "python",
   "nbconvert_exporter": "python",
   "pygments_lexer": "ipython3",
   "version": "3.9.7"
  }
 },
 "nbformat": 4,
 "nbformat_minor": 5
}
